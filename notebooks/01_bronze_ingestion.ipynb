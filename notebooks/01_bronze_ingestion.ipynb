{
 "cells": [
  {
   "cell_type": "markdown",
   "id": "4cc49312",
   "metadata": {},
   "source": [
    "Setup Spark with Delta Lake"
   ]
  },
  {
   "cell_type": "code",
   "execution_count": 1,
   "id": "d0cce622",
   "metadata": {},
   "outputs": [],
   "source": [
    "from pathlib import Path\n",
    "from delta import configure_spark_with_delta_pip\n",
    "from pyspark.sql import SparkSession\n",
    "\n",
    "builder = SparkSession.builder \\\n",
    "    .appName(\"Bronze Layer Ingestion\") \\\n",
    "    .config(\"spark.sql.extensions\", \"io.delta.sql.DeltaSparkSessionExtension\") \\\n",
    "    .config(\"spark.sql.catalog.spark_catalog\", \"org.apache.spark.sql.delta.catalog.DeltaCatalog\")\n",
    "\n",
    "spark = configure_spark_with_delta_pip(builder).getOrCreate()"
   ]
  },
  {
   "cell_type": "markdown",
   "id": "98750b1f",
   "metadata": {},
   "source": [
    "Define Input & Output Paths"
   ]
  },
  {
   "cell_type": "code",
   "execution_count": 2,
   "id": "40fa3c7e",
   "metadata": {},
   "outputs": [],
   "source": [
    "# defining input path where basically are located the datasets and the output path where will be located the delta tables\n",
    "input_path = Path(\"../data/raw_csvs\")\n",
    "output_base_path = Path(\"../delta/bronze\")"
   ]
  },
  {
   "cell_type": "markdown",
   "id": "1def7125",
   "metadata": {},
   "source": [
    "Load & Save Each CSV as a Delta Table"
   ]
  },
  {
   "cell_type": "code",
   "execution_count": null,
   "id": "e2047eeb",
   "metadata": {},
   "outputs": [
    {
     "name": "stdout",
     "output_type": "stream",
     "text": [
      "Ingesting olist_customers_dataset...\n",
      "Ingesting olist_orders_dataset...\n",
      "Ingesting olist_order_items_dataset...\n",
      "Ingesting olist_order_payments_dataset...\n",
      "Ingesting olist_order_reviews_dataset...\n",
      "Ingesting olist_products_dataset...\n",
      "Ingesting olist_sellers_dataset...\n",
      "✅ All files ingested into Delta tables.\n"
     ]
    }
   ],
   "source": [
    "# Loop through all CSV files and write each as a Delta table\n",
    "csv_files = list(input_path.glob(\"*.csv\"))\n",
    "\n",
    "for csv_file in csv_files:\n",
    "    table_name = csv_file.stem  # Use the file name without extension\n",
    "    print(f\"Ingesting {table_name}...\")\n",
    "\n",
    "    df = spark.read.option(\"header\", \"true\").option(\n",
    "        \"inferSchema\", \"true\").csv(str(csv_file))\n",
    "\n",
    "# Save DataFrame as a Delta table\n",
    "    df.write.format(\"delta\").mode(\"overwrite\").save(\n",
    "        str(output_base_path / table_name))\n",
    "\n",
    "print(\"✅ All files ingested into Delta tables.\")\n",
    "\n",
    "spark.stop()\n",
    "print(\"Spark seassion closed!\")"
   ]
  }
 ],
 "metadata": {
  "kernelspec": {
   "display_name": "Python 3",
   "language": "python",
   "name": "python3"
  },
  "language_info": {
   "codemirror_mode": {
    "name": "ipython",
    "version": 3
   },
   "file_extension": ".py",
   "mimetype": "text/x-python",
   "name": "python",
   "nbconvert_exporter": "python",
   "pygments_lexer": "ipython3",
   "version": "3.13.2"
  }
 },
 "nbformat": 4,
 "nbformat_minor": 5
}
