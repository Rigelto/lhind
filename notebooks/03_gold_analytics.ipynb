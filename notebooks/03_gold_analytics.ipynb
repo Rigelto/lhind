{
 "cells": [
  {
   "cell_type": "markdown",
   "id": "715eedb7",
   "metadata": {},
   "source": [
    "Setup Spark & Delta Lake"
   ]
  },
  {
   "cell_type": "code",
   "execution_count": null,
   "id": "15812263",
   "metadata": {},
   "outputs": [],
   "source": [
    "from pathlib import Path\n",
    "from delta import configure_spark_with_delta_pip\n",
    "from pyspark.sql import SparkSession\n",
    "from pyspark.sql.functions import col, when, datediff, avg, count\n",
    "from pyspark.sql.functions import sum as _sum\n",
    "from pyspark.sql.window import Window\n",
    "\n",
    "builder = SparkSession.builder \\\n",
    "    .appName(\"Bronze Layer Ingestion\") \\\n",
    "    .config(\"spark.sql.extensions\", \"io.delta.sql.DeltaSparkSessionExtension\") \\\n",
    "    .config(\"spark.sql.catalog.spark_catalog\", \"org.apache.spark.sql.delta.catalog.DeltaCatalog\")\n",
    "\n",
    "spark = configure_spark_with_delta_pip(builder).getOrCreate()"
   ]
  },
  {
   "cell_type": "markdown",
   "id": "b9cfdad5",
   "metadata": {},
   "source": [
    "Cumulative Sales per Customer"
   ]
  },
  {
   "cell_type": "code",
   "execution_count": null,
   "id": "6cc9df3b",
   "metadata": {},
   "outputs": [],
   "source": [
    "# Read from Silver Layer (not Bronze)\n",
    "silver_path = Path(\"../delta/silver\")\n",
    "gold_path = Path(\"../delta/gold\")\n",
    "\n",
    "orders = spark.read.format(\"delta\").load(str(silver_path / \"orders\"))\n",
    "orders_items = spark.read.format(\"delta\").load(\n",
    "    str(silver_path / \"orders_items\"))\n",
    "\n",
    "# Add customer_id to orders_items via join on order_id\n",
    "orders_items_with_customer = orders_items.alias(\"oi\") \\\n",
    "    .join(\n",
    "        orders.select(\"order_id\", \"customer_id\").alias(\"o\"),\n",
    "        on=col(\"oi.order_id\") == col(\"o.order_id\"),\n",
    "        how=\"left\"\n",
    ").drop(col(\"o.order_id\"))\n",
    "\n",
    "# Cumulative Sales per Customer (Running total of total_price)\n",
    "window_spec = Window.partitionBy(\"customer_id\").orderBy(\"order_id\") \\\n",
    "    .rowsBetween(Window.unboundedPreceding, Window.currentRow)\n",
    "\n",
    "cumulative_sales = orders_items_with_customer \\\n",
    "    .withColumn(\"cumulative_total_price\", _sum(\"total_price\").over(window_spec))\n",
    "\n",
    "# Save it as delta table in gold layer\n",
    "cumulative_sales.write.format(\"delta\").mode(\n",
    "    \"overwrite\").save(str(gold_path / \"customer_sales\"))"
   ]
  },
  {
   "cell_type": "markdown",
   "id": "1e1369cf",
   "metadata": {},
   "source": [
    "Rolling Average Delivery Time per Product Category"
   ]
  },
  {
   "cell_type": "code",
   "execution_count": null,
   "id": "a6bfd482",
   "metadata": {},
   "outputs": [],
   "source": [
    "# Join orders_items with orders to bring in the days column\n",
    "orders_items_with_days = orders_items.alias(\"oi\") \\\n",
    "    .join(\n",
    "        orders.select(\"order_id\", \"days\").alias(\"o\"),\n",
    "        on=\"order_id\",\n",
    "        how=\"left\"\n",
    ")\n",
    "\n",
    "# Calculate Rolling Average Delivery Time per product_category_name using a Window of last 3 rows\n",
    "window_spec = Window.partitionBy(\"product_category_name\").orderBy(\"order_id\") \\\n",
    "    .rowsBetween(-2, 0)  # Current and 2 preceding rows\n",
    "\n",
    "rolling_avg_delivery = orders_items_with_days \\\n",
    "    .withColumn(\"rolling_avg_days\", avg(\"days\").over(window_spec))\n",
    "\n",
    "# Save result to the Gold Layer as a Delta table\n",
    "rolling_avg_delivery.write.format(\"delta\").mode(\"overwrite\").save(\n",
    "    str(gold_path / \"product_category_rolling_avg_delivery\"))"
   ]
  },
  {
   "cell_type": "markdown",
   "id": "9315df3e",
   "metadata": {},
   "source": [
    "KPI Summary Table"
   ]
  },
  {
   "cell_type": "code",
   "execution_count": null,
   "id": "41c1df79",
   "metadata": {},
   "outputs": [],
   "source": [
    "# Total sales per product category\n",
    "total_sales_by_category = orders_items.groupBy(\"product_category_name\") \\\n",
    "    .agg(sum(\"total_price\").alias(\"total_sales\"))\n",
    "\n",
    "total_sales_by_category.write.format(\"delta\").mode(\"overwrite\") \\\n",
    "    .save(str(gold_path / \"kpi_total_sales_per_category\"))\n",
    "\n",
    "# Average delivery time per seller\n",
    "avg_delivery_by_seller = orders_items.groupBy(\"seller_id\") \\\n",
    "    .agg(avg(\"days\").alias(\"avg_delivery_days\"))\n",
    "\n",
    "avg_delivery_by_seller.write.format(\"delta\").mode(\"overwrite\") \\\n",
    "    .save(str(gold_path / \"kpi_avg_delivery_per_seller\"))\n",
    "\n",
    "# Order counts per customer state\n",
    "order_counts_by_state = orders.groupBy(\"customer_state\") \\\n",
    "    .agg(count(\"order_id\").alias(\"order_count\"))\n",
    "\n",
    "order_counts_by_state.write.format(\"delta\") \\\n",
    "    .mode(\"overwrite\") \\\n",
    "    .save(str(gold_path / \"kpi_order_counts_per_state\"))"
   ]
  },
  {
   "cell_type": "markdown",
   "id": "3af30dfb",
   "metadata": {},
   "source": [
    "Reporting Queries"
   ]
  },
  {
   "cell_type": "code",
   "execution_count": null,
   "id": "b327b1aa",
   "metadata": {},
   "outputs": [],
   "source": [
    "# Load and register views\n",
    "spark.read.format(\"delta\").load(str(gold_path / \"kpi_total_sales_per_category\")) \\\n",
    "    .createOrReplaceTempView(\"total_sales_per_category\")\n",
    "\n",
    "spark.read.format(\"delta\").load(str(gold_path / \"kpi_avg_delivery_per_seller\")) \\\n",
    "    .createOrReplaceTempView(\"avg_delivery_per_seller\")\n",
    "\n",
    "spark.read.format(\"delta\").load(str(gold_path / \"kpi_order_count_per_state\")) \\\n",
    "    .createOrReplaceTempView(\"order_counts_per_state\")"
   ]
  },
  {
   "cell_type": "code",
   "execution_count": null,
   "id": "5126aa58",
   "metadata": {},
   "outputs": [],
   "source": [
    "# Show all the results\n",
    "spark.sql(\"SELECT * FROM total_sales_per_category\").show()\n",
    "spark.sql(\"SELECT * FROM avg_delivery_per_seller\").show()\n",
    "spark.sql(\"SELECT * FROM order_counts_per_state\").show()"
   ]
  }
 ],
 "metadata": {
  "kernelspec": {
   "display_name": "Python 3",
   "language": "python",
   "name": "python3"
  },
  "language_info": {
   "name": "python",
   "version": "3.13.2"
  }
 },
 "nbformat": 4,
 "nbformat_minor": 5
}
